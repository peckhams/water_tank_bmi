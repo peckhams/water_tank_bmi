{
 "cells": [
  {
   "cell_type": "markdown",
   "metadata": {},
   "source": [
    "## Water Tank Example for the Basic Modeling Interface (BMI)"
   ]
  },
  {
   "cell_type": "markdown",
   "metadata": {},
   "source": [
    "### Using the <b>dill</b> Python Package to Serialize Model State"
   ]
  },
  {
   "cell_type": "markdown",
   "metadata": {},
   "source": [
    "This Jupyter notebook is a successor to \"Water_Tank_BMI_Example.ipynb\".  In this notebook, we demonstrate how a model's state can be serialized using a Python package called <b>dill</b>, which extends Python's built-in <b>pickle</b> module.  See <b>Appendix 1</b> for instructions on how to set up a conda environment for running this notebook.\n"
   ]
  },
  {
   "cell_type": "markdown",
   "metadata": {},
   "source": [
    "First, we import the model class and create an instance of it."
   ]
  },
  {
   "cell_type": "code",
   "execution_count": 1,
   "metadata": {
    "scrolled": true
   },
   "outputs": [],
   "source": [
    "import water_tank_bmi_2021 as water_tank_module  # Import 2021 version for Python 3\n",
    "tank_model = water_tank_module.water_tank()      # Create an instance of the water tank model"
   ]
  },
  {
   "cell_type": "markdown",
   "metadata": {},
   "source": [
    "Next, we initialize the model with the default configuration file."
   ]
  },
  {
   "cell_type": "code",
   "execution_count": 2,
   "metadata": {
    "scrolled": true
   },
   "outputs": [
    {
     "name": "stdout",
     "output_type": "stream",
     "text": [
      "Reading file = tank_info.cfg\n",
      "   number of lines = 6\n",
      "\n",
      "Reading file = tank_info.cfg\n",
      "   data format = key_value\n",
      "\n",
      "Reading file = tank_info.cfg\n",
      "   dt         = 4000.0 [sec]\n",
      "   n_steps    = 300\n",
      "   init_depth = 1.0 [m]\n",
      "   top_radius = 20.0 [m]\n",
      "   top_area   = 1256.6370614359173 [m2]\n",
      "   out_radius = 0.05 [m]\n",
      "   out_speed  = 2.2147234590350102 [m/s]\n",
      "   depth      = 1.0 [m]\n",
      "   volume     = 1256.6370614359173 [m3]\n",
      "   out_area   = 0.007853981633974483 [m2]\n",
      "   rain_file  = rain_data.txt\n",
      "\n"
     ]
    }
   ],
   "source": [
    "import os\n",
    "os.chdir('input_files')\n",
    "cfg_file = 'tank_info.cfg'\n",
    "tank_model.initialize( cfg_file)                   # Initialize the model"
   ]
  },
  {
   "cell_type": "markdown",
   "metadata": {},
   "source": [
    "Next, we udate the model state 8 timesteps."
   ]
  },
  {
   "cell_type": "code",
   "execution_count": 3,
   "metadata": {},
   "outputs": [
    {
     "name": "stdout",
     "output_type": "stream",
     "text": [
      "--------------------------------------\n",
      "rain_rate = 40.0  [mmph]\n",
      "depth     = 0.9890763579685691 [meters]\n",
      "--------------------------------------\n",
      "rain_rate = 40.0  [mmph]\n",
      "depth     = 0.9233911114137668 [meters]\n",
      "--------------------------------------\n",
      "rain_rate = 40.0  [mmph]\n",
      "depth     = 0.8614255774552847 [meters]\n",
      "--------------------------------------\n",
      "rain_rate = 40.0  [mmph]\n",
      "depth     = 0.8030924409613482 [meters]\n",
      "--------------------------------------\n",
      "rain_rate = 40.0  [mmph]\n",
      "depth     = 0.748300193314165 [meters]\n",
      "--------------------------------------\n",
      "rain_rate = 40.0  [mmph]\n",
      "depth     = 0.696953035201209 [meters]\n",
      "--------------------------------------\n",
      "rain_rate = 40.0  [mmph]\n",
      "depth     = 0.6489508107270017 [meters]\n",
      "--------------------------------------\n",
      "rain_rate = 40.0  [mmph]\n",
      "depth     = 0.6041889811962382 [meters]\n"
     ]
    }
   ],
   "source": [
    "for k in range(8):\n",
    "    tank_model.update()"
   ]
  },
  {
   "cell_type": "markdown",
   "metadata": {},
   "source": [
    "Next, we use <b>dill</b> to serialize the entire model state."
   ]
  },
  {
   "cell_type": "code",
   "execution_count": 4,
   "metadata": {},
   "outputs": [],
   "source": [
    "import dill\n",
    "os.chdir('../state_files')\n",
    "model_state_file = 'tank_model_state1.bin'\n",
    "dill.dump( tank_model, open(model_state_file, mode='wb'))"
   ]
  },
  {
   "cell_type": "markdown",
   "metadata": {},
   "source": [
    "Next, we will load the saved model state into a new model object."
   ]
  },
  {
   "cell_type": "code",
   "execution_count": 5,
   "metadata": {},
   "outputs": [
    {
     "name": "stdout",
     "output_type": "stream",
     "text": [
      "0.6041889811962382\n",
      "3.4429911139981457\n"
     ]
    }
   ],
   "source": [
    "tank_model2 = dill.load( open(model_state_file, mode='rb') )\n",
    "os.chdir('../input_files')\n",
    "print( tank_model2.depth )\n",
    "print( tank_model2.out_speed )"
   ]
  },
  {
   "cell_type": "code",
   "execution_count": 6,
   "metadata": {},
   "outputs": [
    {
     "data": {
      "text/plain": [
       "8"
      ]
     },
     "execution_count": 6,
     "metadata": {},
     "output_type": "execute_result"
    }
   ],
   "source": [
    "tank_model2.time_index"
   ]
  },
  {
   "cell_type": "code",
   "execution_count": 7,
   "metadata": {},
   "outputs": [
    {
     "data": {
      "text/plain": [
       "'seconds'"
      ]
     },
     "execution_count": 7,
     "metadata": {},
     "output_type": "execute_result"
    }
   ],
   "source": [
    "tank_model2.get_time_units()"
   ]
  },
  {
   "cell_type": "code",
   "execution_count": 8,
   "metadata": {},
   "outputs": [
    {
     "data": {
      "text/plain": [
       "4000.0"
      ]
     },
     "execution_count": 8,
     "metadata": {},
     "output_type": "execute_result"
    }
   ],
   "source": [
    "tank_model2.get_time_step()"
   ]
  },
  {
   "cell_type": "code",
   "execution_count": 9,
   "metadata": {},
   "outputs": [
    {
     "name": "stdout",
     "output_type": "stream",
     "text": [
      "   dt         = 4000.0 [sec]\n",
      "   n_steps    = 300\n",
      "   init_depth = 1.0 [m]\n",
      "   top_radius = 20.0 [m]\n",
      "   top_area   = 1256.6370614359173 [m2]\n",
      "   out_radius = 0.05 [m]\n",
      "   out_speed  = 3.4429911139981457 [m/s]\n",
      "   depth      = 0.6041889811962382 [m]\n",
      "   volume     = 759.2462658824014 [m3]\n",
      "   out_area   = 0.007853981633974483 [m2]\n",
      "   rain_file  = rain_data.txt\n",
      "\n"
     ]
    }
   ],
   "source": [
    "tank_model2.print_tank_data()"
   ]
  },
  {
   "cell_type": "code",
   "execution_count": 10,
   "metadata": {},
   "outputs": [
    {
     "name": "stdout",
     "output_type": "stream",
     "text": [
      "--------------------------------------\n",
      "rain_rate = 40.0  [mmph]\n",
      "depth     = 0.562558647790729 [meters]\n",
      "--------------------------------------\n",
      "rain_rate = 40.0  [mmph]\n",
      "depth     = 0.5239466330129443 [meters]\n",
      "--------------------------------------\n",
      "rain_rate = 40.0  [mmph]\n",
      "depth     = 0.4882356310590233 [meters]\n",
      "--------------------------------------\n",
      "rain_rate = 40.0  [mmph]\n",
      "depth     = 0.45530443705142476 [meters]\n",
      "--------------------------------------\n",
      "rain_rate = 40.0  [mmph]\n",
      "depth     = 0.4250282641312951 [meters]\n"
     ]
    }
   ],
   "source": [
    "for k in range(5):\n",
    "    tank_model2.update()"
   ]
  },
  {
   "cell_type": "markdown",
   "metadata": {},
   "source": [
    "## Appendix 1: &nbsp; Installing in a conda Environment  <a id=\"setup_B\"></a>\n",
    "\n",
    "To run this Jupyter notebook, it is recommended to use Python 3.7 from an Anaconda distribution and to install the required Python packages in a conda environment called <b>dill</b>.  This prevents conflicts with other Python packages you may have installed.\n",
    "The Anaconda distribution includes many packages from the\n",
    "[<b>Python Standard Library</b>](https://docs.python.org/3/library/).\n",
    "\n",
    "Simply type the following commands at an OS prompt after installing Anaconda and downloading the source code for the water tank model.\n",
    "\n",
    "``` bash\n",
    "% conda update -n base conda\n",
    "% conda create --name dill\n",
    "% conda activate dill\n",
    "% conda list\n",
    "% conda install nb_conda\n",
    "% conda install nodejs\n",
    "% conda install numpy\n",
    "% conda install jupyterlab\n",
    "% jupyter labextension install jupyter-leaflet\n",
    "% jupyter labextension install @jupyter-widgets/jupyterlab-manager\n",
    "```\n",
    "\n",
    "#### <b>Conda Environments</b>\n",
    "\n",
    "Note that <b>conda</b> is the name of the package manager for the popular Anaconda Python distribution.  One feature of conda is support for multiple environments, which are isolated from one another.  When you install Anaconda, an environment called <b>base</b> is created for you and a base set of commonly-used Python packages are installed there.  However, you can (and should!) create additional, named environments and install different sets of Python packages into them without worrying about potential conflicts with packages in other environments.  Type <b>conda env list</b> to list your available environments.  You can switch to one of your other environments using the command <b>conda activate envname</b>.  (Replace \"envname\" with the name of an environment.) You can switch back to the base environment with the command <b>conda deactivate</b>.  It is better not to install new packages into the base environment.  See the online conda documentation on [<b>Managing Environments</b>](https://docs.conda.io/projects/conda/en/latest/user-guide/tasks/manage-environments.html) for more information.\n",
    "\n",
    "It is always a good idea to update conda itself before creating new environments and installing packages in them. The \"-n\" flag is followed by the name of the environment to update, and the \"-c\" flag is followed by the name of the <b>channel</b> from which to get packages.  A channel is a collection of Python packages that are provided and maintained by some group.  The word \"defaults\" refers to\n",
    "[<b>Anaconda's own collection</b>](https://docs.anaconda.com/anaconda/packages/pkg-docs/), while\n",
    "[<b>conda-forge</b>](https://conda-forge.org/feedstocks/)\n",
    "refers to another popular collection and the GitHub organization that maintains it.  Many Python packages are available from both of these channels.  (However, the ipyleaflet and pydap  packages are currently not available in the Anaconda collection.) When you are installing several packages into an environment, the potential for installation problems seems to be less if you get them all from the same channel.  Keep in mind that packages you install will likely depend on many other Python packages, so there is a potential for conflicts, usually related to different package versions.  Using conda environments helps to mitigate against this and helps with <b>reproducibility</b>.\n",
    "\n",
    "Once you've switched to an environment with <b>conda activate envname</b>, you can type <b>conda list</b> to see a list of packages.  If you do this right after you create a new environment you will see that it contains no packages.  If you do this right after installing each package above you will see that:\n",
    "\n",
    "<ul>\n",
    "    <li>Installing <b>nb_conda</b> triggers installation of <b>nb_conda_kernels</b> (2.2.3),\n",
    "        <b>ipykernel</b> (5.3.0), <b>notebook</b> (6.0.3), <b>pip</b> (20.0.2),\n",
    "        <b>setuptools</b> (46.4.0) and <b>traitlets</b> (4.3.3), among many others.\n",
    "</ul>\n",
    "\n",
    "#### <b>Jupyter Notebook Extensions</b>\n",
    "\n",
    "Note that <b>nb_conda</b> is installed first above, and triggers installation of <b>nb_conda_kernels</b> along with <b>notebook</b>.  This is important as it makes your Jupyter notebook app aware of your conda environments and available in the app as \"kernels\".  Anaconda provides a helpful page on the\n",
    "[<b>Jupyter Notebook Extensions</b>](https://docs.continuum.io/anaconda/user-guide/tasks/use-jupyter-notebook-extensions/).\n",
    "That page also explains how you can enable or disable these extensions individually. The command <b>jupyter nbextension list</b> shows you the extensions that are installed and whether they are enabled.  If you run the <b>jupyter notebook</b> or <b>jupyter lab</b> command in an environment that has <b>nb_conda_kernels</b> installed (see below), you will have the ability to associate one of your available conda environments with any new notebook you create.  Different environments give rise to different <b>kernels</b> in Jupyter, and the kernel name includes the environment name, e.g. <b>Python \\[conda env:dill\\]</b>.  The kernel name is displayed in the upper right corner.  Notebooks typically open with the \"environment kernel\" they were created with. However, there is a <b>Change Kernel</b> option in the <b>Kernel</b> menu in the Jupyter app menu bar. (After changing the kernel, you may need to choose <b>Restart</b> from the <b>Kernel</b> menu.\n",
    "\n",
    "#### <b>Cloning a conda Environment</b>\n",
    "\n",
    "If your notebook is working but then you want to import additional packages (possibly with many dependencies, and potential for problems), you can keep the first environment but clone it with\n",
    "<b><i>conda create --name clonename --copy --clone envname</i></b>,\n",
    "and then install the additional packages in the clone.  This way, you can switch to the new environment's kernel and try to run your notebook, but if you run into any problems you can easily revert back to the original environment and functionality.\n",
    "\n",
    "<b>Note:</b> Setting the \"--copy\" flag installs all packages using copies instead of hard or soft links.  This is necessary to avoid problems when using <b>pip</b> together with <b>conda</b> as described [<b>on this page</b>](https://stackoverflow.com/questions/43879119/installing-tensorflow-in-cloned-conda-environment-breaks-conda-environment-it-wa).\n",
    "\n",
    "#### <b>Running Notebooks in the Jupyter Notebook App</b>\n",
    "\n",
    "When you want to run the notebook, type <b>conda activate dill</b> (at an OS command prompt) to activate this environment.  Then change to the directory that contains this notebook and type <b>jupyter notebook</b>.  By default, this folder is called <b>Jupyter</b> and is in your home directory.  In the app, choose this notebook by name, \"Water_Tank_BMI_dill_Example.ipynb\", and make sure to choose the kernel called:  <b>Python \\[conda env:dill\\]</b>.  See the References section at the end for more info.\n",
    "\n",
    "#### <b>Running Notebooks in the JupyterLab App</b>\n",
    "\n",
    "The\n",
    "[<b>JupyterLab</b>](https://jupyterlab.readthedocs.io/en/stable/index.html)\n",
    "app is a cool, new successor to the Notebook app and offers many additional features.  If you want to use this notebook in JupyterLab, you need to install one more Python package, as follows.\n",
    "\n",
    "``` bash\n",
    "% conda activate dill\n",
    "% conda install -c conda-forge jupyterlab\n",
    "```\n",
    "\n",
    "You launch the JupyterLab app by typing <b>jupyter lab</b> instead of <b>jupyter notebook</b>.  To quit, choose <b>Logout</b> or <b>Shutdown</b> from the app's <b>File</b> menu.\n",
    "\n",
    "#### <b>JupyterLab Extensions</b>\n",
    "\n",
    "The Jupyter project provides documentation on\n",
    "[<b>JupyterLab Extensions</b>](https://jupyterlab.readthedocs.io/en/stable/user/extensions.html)\n",
    "which add capabilities to JupyterLab.  For example, after installing jupyterlab (see just above), if you want to use the <b>ipywidgets</b> and <b>ipyleaflet</b> Python packages, you need to install two extensions, as follows:\n",
    "```\n",
    "% conda activate dill\n",
    "% jupyter labextension install jupyter-leaflet\n",
    "% jupyter labextension install @jupyter-widgets/jupyterlab-manager\n",
    "```\n",
    "To list the jupyter labextensions you have, and to see whether or not they are enabled, type <b>jupyter labextension list</b>.  <b>Note:</b> If you start jupyterlab from a conda environment in which a given extension is not installed, and then open or switch to a notebook which uses a different \"environment kernel\", one that requires that extension, the notebook may not work.\n",
    "\n",
    "As of May 27, 2020, JupyterLab has added an experimental <b>Extension Manager</b> which can be enabled by choosing Settings > Enable Extension Manager in the app.\n"
   ]
  },
  {
   "cell_type": "code",
   "execution_count": null,
   "metadata": {},
   "outputs": [],
   "source": []
  }
 ],
 "metadata": {
  "kernelspec": {
   "display_name": "Python 3",
   "language": "python",
   "name": "python3"
  },
  "language_info": {
   "codemirror_mode": {
    "name": "ipython",
    "version": 3
   },
   "file_extension": ".py",
   "mimetype": "text/x-python",
   "name": "python",
   "nbconvert_exporter": "python",
   "pygments_lexer": "ipython3",
   "version": "3.8.8"
  }
 },
 "nbformat": 4,
 "nbformat_minor": 4
}
